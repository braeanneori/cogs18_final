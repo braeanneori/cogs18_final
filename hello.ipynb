{
 "cells": [
  {
   "cell_type": "code",
   "execution_count": null,
   "metadata": {},
   "outputs": [],
   "source": [
    "#This is my python project for Fall 2019\n",
    "#I had a hard time trying to figure out what to do\n",
    "#So I was looking around, and decided that I wanted to make an expense tracker!\n",
    "#It's nothing fancy, and probably unrealistic for a real tracker\n",
    "#But I wanted to figure out things I could do with what I learned!\n",
    "#I hope to become a better coder soon"
   ]
  }
 ],
 "metadata": {
  "kernelspec": {
   "display_name": "Python 3",
   "language": "python",
   "name": "python3"
  },
  "language_info": {
   "codemirror_mode": {
    "name": "ipython",
    "version": 3
   },
   "file_extension": ".py",
   "mimetype": "text/x-python",
   "name": "python",
   "nbconvert_exporter": "python",
   "pygments_lexer": "ipython3",
   "version": "3.6.7"
  }
 },
 "nbformat": 4,
 "nbformat_minor": 2
}
